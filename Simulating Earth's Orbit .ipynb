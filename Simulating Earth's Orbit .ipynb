{
 "cells": [
  {
   "cell_type": "code",
   "execution_count": 1,
   "metadata": {},
   "outputs": [
    {
     "data": {
      "text/html": [
       "<div id=\"glowscript\" class=\"glowscript\"></div>"
      ],
      "text/plain": [
       "<IPython.core.display.HTML object>"
      ]
     },
     "metadata": {},
     "output_type": "display_data"
    },
    {
     "data": {
      "application/javascript": [
       "if (typeof Jupyter !== \"undefined\") { window.__context = { glowscript_container: $(\"#glowscript\").removeAttr(\"id\")};}else{ element.textContent = ' ';}"
      ],
      "text/plain": [
       "<IPython.core.display.Javascript object>"
      ]
     },
     "metadata": {},
     "output_type": "display_data"
    },
    {
     "data": {
      "text/html": [
       "<div id=\"glowscript\" class=\"glowscript\"></div>"
      ],
      "text/plain": [
       "<IPython.core.display.HTML object>"
      ]
     },
     "metadata": {},
     "output_type": "display_data"
    },
    {
     "data": {
      "application/javascript": [
       "if (typeof Jupyter !== \"undefined\") { window.__context = { glowscript_container: $(\"#glowscript\").removeAttr(\"id\")};}else{ element.textContent = ' ';}"
      ],
      "text/plain": [
       "<IPython.core.display.Javascript object>"
      ]
     },
     "metadata": {},
     "output_type": "display_data"
    },
    {
     "data": {
      "application/javascript": [
       "if (typeof Jupyter !== \"undefined\") {require.undef(\"nbextensions/vpython_libraries/glow.min\");}else{element.textContent = ' ';}"
      ],
      "text/plain": [
       "<IPython.core.display.Javascript object>"
      ]
     },
     "metadata": {},
     "output_type": "display_data"
    },
    {
     "data": {
      "application/javascript": [
       "if (typeof Jupyter !== \"undefined\") {require.undef(\"nbextensions/vpython_libraries/glowcomm\");}else{element.textContent = ' ';}"
      ],
      "text/plain": [
       "<IPython.core.display.Javascript object>"
      ]
     },
     "metadata": {},
     "output_type": "display_data"
    },
    {
     "data": {
      "application/javascript": [
       "if (typeof Jupyter !== \"undefined\") {require.undef(\"nbextensions/vpython_libraries/jquery-ui.custom.min\");}else{element.textContent = ' ';}"
      ],
      "text/plain": [
       "<IPython.core.display.Javascript object>"
      ]
     },
     "metadata": {},
     "output_type": "display_data"
    },
    {
     "data": {
      "application/javascript": [
       "if (typeof Jupyter !== \"undefined\") {require([\"nbextensions/vpython_libraries/glow.min\"], function(){console.log(\"GLOW LOADED\");});}else{element.textContent = ' ';}"
      ],
      "text/plain": [
       "<IPython.core.display.Javascript object>"
      ]
     },
     "metadata": {},
     "output_type": "display_data"
    },
    {
     "data": {
      "application/javascript": [
       "if (typeof Jupyter !== \"undefined\") {require([\"nbextensions/vpython_libraries/glowcomm\"], function(){console.log(\"GLOWCOMM LOADED\");});}else{element.textContent = ' ';}"
      ],
      "text/plain": [
       "<IPython.core.display.Javascript object>"
      ]
     },
     "metadata": {},
     "output_type": "display_data"
    },
    {
     "data": {
      "application/javascript": [
       "if (typeof Jupyter !== \"undefined\") {require([\"nbextensions/vpython_libraries/jquery-ui.custom.min\"], function(){console.log(\"JQUERY LOADED\");});}else{element.textContent = ' ';}"
      ],
      "text/plain": [
       "<IPython.core.display.Javascript object>"
      ]
     },
     "metadata": {},
     "output_type": "display_data"
    }
   ],
   "source": [
    "import matplotlib.pyplot as plt\n",
    "import numpy as np\n",
    "import vpython as vp\n",
    "\n",
    "\n",
    "Ms = 1.98855*10**30\n",
    "Me = 5.972*10**24\n",
    "G = 6.67*10**(-11)\n",
    "Mm= 3.285*10**23\n",
    "Pm= 4.6*10**10\n",
    "Pe = 1.4709*10**11\n",
    "Ve = 3.029*10**4\n",
    "\n",
    "scene= vp.canvas()\n",
    "\n",
    "Earth = vp.sphere (pos = vp.vector(Pe, 0, 0),\n",
    "                   radius = 700.1*10**6.5,\n",
    "                   vel = vp.vector(0,Ve,0),\n",
    "                  texture = vp.textures.earth, make_trail = True, trail_radius= 6*10**8)\n",
    "Sun = vp.sphere ( pos = vp.vector(0,0,0),\n",
    "                 radius = 696.34*10**7,\n",
    "                  color = vp.color.yellow)\n",
    "\n",
    "\n",
    "vp.graph(title = 'Position vs time',\n",
    "        xmin= 0,\n",
    "         xmax=365*24*3600,\n",
    "         xtitle = 'Time(s)',\n",
    "        ytitle = 'Position')\n",
    "TGraph= vp.gcurve(color = vp.color.green, label = 'Period of Earth') \n",
    "\n",
    "\n",
    "def F(r):\n",
    "    F = -(G*Ms*Me)/(Earth.pos.mag**2)*Earth.pos.hat\n",
    "    return F\n",
    "t=0\n",
    "tmax = 365*24*3600\n",
    "dt = 3600\n",
    "while t < tmax :\n",
    "    vp.rate(1000)\n",
    "    r= Earth.pos\n",
    "    A = F(r)/Me\n",
    "    Earth.vel= Earth.vel + A*dt\n",
    "    Earth.pos= Earth.pos + Earth.vel*dt\n",
    "    t=t+dt\n",
    "    \n",
    "    TGraph.plot(t,Earth.pos.y)\n",
    "\n",
    "\n",
    "\n",
    "\n",
    "\n",
    "\n",
    "\n"
   ]
  },
  {
   "cell_type": "code",
   "execution_count": 2,
   "metadata": {
    "scrolled": true
   },
   "outputs": [
    {
     "data": {
      "text/html": [
       "<div id=\"glowscript\" class=\"glowscript\"></div>"
      ],
      "text/plain": [
       "<IPython.core.display.HTML object>"
      ]
     },
     "metadata": {},
     "output_type": "display_data"
    },
    {
     "data": {
      "application/javascript": [
       "if (typeof Jupyter !== \"undefined\") { window.__context = { glowscript_container: $(\"#glowscript\").removeAttr(\"id\")};}else{ element.textContent = ' ';}"
      ],
      "text/plain": [
       "<IPython.core.display.Javascript object>"
      ]
     },
     "metadata": {},
     "output_type": "display_data"
    }
   ],
   "source": [
    "import matplotlib.pyplot as plt\n",
    "import numpy as np\n",
    "import vpython as vp\n",
    "\n",
    "Ms = 1.98855*10**30\n",
    "Me = 5.972*10**24\n",
    "G = 6.67*10**(-11)\n",
    "Mm= 3.285*10**23\n",
    "Pm= 4.6*10**10\n",
    "Pe = 1.4709*10**11\n",
    "Vm = 5.898*10**4\n",
    "\n",
    "scene= vp.canvas()\n",
    "\n",
    "Mercury = vp.sphere (pos = vp.vector(Pm, 0, 0),\n",
    "                   radius = 637.1*10**6,\n",
    "                   vel = vp.vector(0,Vm,0),\n",
    "                  color = vp.color.green, make_trail = True, trail_radius= 6*10**8)\n",
    "Sun = vp.sphere ( pos = vp.vector(0,0,0),\n",
    "                 radius = 696.34*10**6.5,\n",
    "                  color = vp.color.yellow)\n",
    "vp.graph(title = 'Position vs time',\n",
    "        xmin= 0,\n",
    "         xtitle = 'Time(s)',\n",
    "        ytitle = 'Position')\n",
    "\n",
    "TGraph= vp.gcurve(color = vp.color.green, label = 'Period of Mercury') \n",
    "\n",
    "vp.graph(title = 'Position vs time',\n",
    "        xmin= 0,\n",
    "         xtitle = 'Time(s)',\n",
    "        ytitle = 'Position')\n",
    "\n",
    "UGraph= vp.gcurve(color = vp.color.green, label = 'Potential Energy') \n",
    "\n",
    "vp.graph(title = 'Position vs time',\n",
    "        xmin= 0,\n",
    "         xtitle = 'Time(s)',\n",
    "        ytitle = 'Position')\n",
    "\n",
    "KGraph= vp.gcurve(color = vp.color.green, label = 'Kinetic Energy') \n",
    "\n",
    "vp.graph(title = 'Position vs time',\n",
    "        ymin= 8.5e38,\n",
    "         ymax=9.5e38,\n",
    "         xtitle = 'Time(s)',\n",
    "        ytitle = 'Position')\n",
    "\n",
    "LGraph= vp.gcurve(color = vp.color.green, label = 'Angular Momentum') \n",
    "\n",
    "\n",
    "def F(r):\n",
    "    F = -(G*Ms*Mm)/(Mercury.pos.mag**2)*Mercury.pos.hat\n",
    "    return F\n",
    "    \n",
    "    \n",
    "    \n",
    "\n",
    "t=0\n",
    "tmax = 89*24*3600\n",
    "dt = 1800\n",
    "while t < tmax :\n",
    "    vp.rate(1000)\n",
    "    r= Mercury.pos\n",
    "    A = F(r)/Mm\n",
    "    Mercury.vel= Mercury.vel + A*dt\n",
    "    Mercury.pos= Mercury.pos + Mercury.vel*dt\n",
    "    t=t+dt\n",
    "    \n",
    "    TGraph.plot(t,Mercury.pos.y)\n",
    "    UGraph.plot(t,(-G*Ms*Mm)/Mercury.pos.mag)\n",
    "    KGraph.plot(t,(Mm*Mercury.vel.mag**2)/2)\n",
    "    LGraph.plot(t, r.cross(Mm*Mercury.vel).mag)\n",
    "    \n",
    "    \n",
    "    "
   ]
  },
  {
   "cell_type": "code",
   "execution_count": null,
   "metadata": {},
   "outputs": [],
   "source": []
  },
  {
   "cell_type": "code",
   "execution_count": null,
   "metadata": {},
   "outputs": [],
   "source": []
  }
 ],
 "metadata": {
  "kernelspec": {
   "display_name": "Python 3",
   "language": "python",
   "name": "python3"
  },
  "language_info": {
   "codemirror_mode": {
    "name": "ipython",
    "version": 3
   },
   "file_extension": ".py",
   "mimetype": "text/x-python",
   "name": "python",
   "nbconvert_exporter": "python",
   "pygments_lexer": "ipython3",
   "version": "3.8.3"
  }
 },
 "nbformat": 4,
 "nbformat_minor": 4
}
