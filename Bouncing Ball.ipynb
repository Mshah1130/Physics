{
 "cells": [
  {
   "cell_type": "code",
   "execution_count": 1,
   "metadata": {
    "scrolled": true
   },
   "outputs": [
    {
     "data": {
      "text/html": [
       "<div id=\"glowscript\" class=\"glowscript\"></div>"
      ],
      "text/plain": [
       "<IPython.core.display.HTML object>"
      ]
     },
     "metadata": {},
     "output_type": "display_data"
    },
    {
     "data": {
      "application/javascript": [
       "if (typeof Jupyter !== \"undefined\") { window.__context = { glowscript_container: $(\"#glowscript\").removeAttr(\"id\")};}else{ element.textContent = ' ';}"
      ],
      "text/plain": [
       "<IPython.core.display.Javascript object>"
      ]
     },
     "metadata": {},
     "output_type": "display_data"
    },
    {
     "data": {
      "text/html": [
       "<div id=\"glowscript\" class=\"glowscript\"></div>"
      ],
      "text/plain": [
       "<IPython.core.display.HTML object>"
      ]
     },
     "metadata": {},
     "output_type": "display_data"
    },
    {
     "data": {
      "application/javascript": [
       "if (typeof Jupyter !== \"undefined\") { window.__context = { glowscript_container: $(\"#glowscript\").removeAttr(\"id\")};}else{ element.textContent = ' ';}"
      ],
      "text/plain": [
       "<IPython.core.display.Javascript object>"
      ]
     },
     "metadata": {},
     "output_type": "display_data"
    },
    {
     "data": {
      "application/javascript": [
       "if (typeof Jupyter !== \"undefined\") {require.undef(\"nbextensions/vpython_libraries/glow.min\");}else{element.textContent = ' ';}"
      ],
      "text/plain": [
       "<IPython.core.display.Javascript object>"
      ]
     },
     "metadata": {},
     "output_type": "display_data"
    },
    {
     "data": {
      "application/javascript": [
       "if (typeof Jupyter !== \"undefined\") {require.undef(\"nbextensions/vpython_libraries/glowcomm\");}else{element.textContent = ' ';}"
      ],
      "text/plain": [
       "<IPython.core.display.Javascript object>"
      ]
     },
     "metadata": {},
     "output_type": "display_data"
    },
    {
     "data": {
      "application/javascript": [
       "if (typeof Jupyter !== \"undefined\") {require.undef(\"nbextensions/vpython_libraries/jquery-ui.custom.min\");}else{element.textContent = ' ';}"
      ],
      "text/plain": [
       "<IPython.core.display.Javascript object>"
      ]
     },
     "metadata": {},
     "output_type": "display_data"
    },
    {
     "data": {
      "application/javascript": [
       "if (typeof Jupyter !== \"undefined\") {require([\"nbextensions/vpython_libraries/glow.min\"], function(){console.log(\"GLOW LOADED\");});}else{element.textContent = ' ';}"
      ],
      "text/plain": [
       "<IPython.core.display.Javascript object>"
      ]
     },
     "metadata": {},
     "output_type": "display_data"
    },
    {
     "data": {
      "application/javascript": [
       "if (typeof Jupyter !== \"undefined\") {require([\"nbextensions/vpython_libraries/glowcomm\"], function(){console.log(\"GLOWCOMM LOADED\");});}else{element.textContent = ' ';}"
      ],
      "text/plain": [
       "<IPython.core.display.Javascript object>"
      ]
     },
     "metadata": {},
     "output_type": "display_data"
    },
    {
     "data": {
      "application/javascript": [
       "if (typeof Jupyter !== \"undefined\") {require([\"nbextensions/vpython_libraries/jquery-ui.custom.min\"], function(){console.log(\"JQUERY LOADED\");});}else{element.textContent = ' ';}"
      ],
      "text/plain": [
       "<IPython.core.display.Javascript object>"
      ]
     },
     "metadata": {},
     "output_type": "display_data"
    }
   ],
   "source": [
    "import vpython as vp\n",
    "scene = vp.canvas()\n",
    "\n",
    "v0 = 15\n",
    "v1 = 0\n",
    "\n",
    "g=(-9.8)\n",
    "\n",
    "\n",
    "wall = vp.box(pos = vp.vector(4, 0, 0),\n",
    "              size= vp.vector(.2, 10, 10),\n",
    "              color = vp.color.red)\n",
    "\n",
    "floor = vp.box(pos = vp.vector(0, -5, 0),\n",
    "              size= vp.vector(10, .2, 10),\n",
    "              color = vp.color.green)\n",
    "\n",
    "ball = vp.sphere (pos = vp.vector (-3, 0, 0), #initial position of the ball\n",
    "                radius = 0.3,\n",
    "                color = vp.color.blue,\n",
    "                vel = vp.vector(v0, 0, 0),\n",
    "                 acel = vp.vector(0, g,0)) #initial velocity of the ball\n",
    "\n",
    "#Position Grapgh\n",
    "\n",
    "\n",
    "\n",
    "\n",
    "vp.graph(title = 'xPostition vs Time',\n",
    "        xtitle = 'Time(s)',\n",
    "         ytitle = 'Postion(m)')\n",
    "xxGraph= vp.gcurve(color = vp.color.blue, label = 'Ball position')\n",
    "\n",
    "\n",
    "\n",
    "\n",
    "\n",
    "\n",
    "\n",
    "vp.graph(title = 'yPostition vs Time',\n",
    "        xtitle = 'Time(s)',\n",
    "         ytitle = 'Postion(m)')\n",
    "xyGraph= vp.gcurve(color = vp.color.blue, label = 'Ball position')\n",
    "\n",
    "\n",
    "\n",
    "\n",
    "\n",
    "\n",
    "\n",
    "\n",
    "#Velocity Graph\n",
    "\n",
    "\n",
    "\n",
    "\n",
    "\n",
    "\n",
    "vp.graph(title = 'xVelocity vs Time',\n",
    "        xtitle = 'Time (s)',\n",
    "         ytitle = 'Velocity(m/s)')\n",
    "vxGraph= vp.gcurve(color = vp.color.green, label = 'Ball velocity')\n",
    "\n",
    "\n",
    "\n",
    "\n",
    "\n",
    "\n",
    "\n",
    "vp.graph(title = 'yVelocity vs Time',\n",
    "        xtitle = 'Time (s)',\n",
    "         ytitle = 'Velocity(m/s)')\n",
    "vyGraph= vp.gcurve(color = vp.color.green, label = 'Ball velocity')\n",
    "\n",
    "\n",
    "\n",
    "\n",
    "\n",
    "\n",
    "\n",
    "\n",
    "#Acceleration Graph\n",
    "vp.graph(title = 'Acceleration vs Time',\n",
    "        xtitle = 'Time(s)',\n",
    "         ytitle = 'Acceleration(m/s^2)')\n",
    "AGraph= vp.gcurve(color = vp.color.red, label = 'Ball acceleration')\n",
    "\n",
    "\n",
    "\n",
    "\n",
    "\n",
    "\n",
    "\n",
    "\n",
    "\n",
    "\n",
    "t = 0\n",
    "tmax = 1\n",
    "dt= 0.001\n",
    "while t < tmax:\n",
    "    vp.rate(100)\n",
    "    \n",
    "    ball.pos = ball.pos + ball.vel*dt\n",
    "    ball.vel.y = v1 + (ball.acel.y*t)\n",
    "    \n",
    "    \n",
    "    if ball.pos.x > (4-(ball.radius+ wall.size.x/2)):\n",
    "        ball.vel.x= -ball.vel.x\n",
    "\n",
    "    xxGraph.plot(t, ball.pos.x,)\n",
    "    xyGraph.plot(t, ball.pos.y)\n",
    "    vxGraph.plot(t, ball.vel.x)\n",
    "    vyGraph.plot(t, ball.vel.y)\n",
    "    AGraph.plot(t, ball.acel.y)\n",
    "    \n",
    "    t = t + dt\n",
    "\n"
   ]
  },
  {
   "cell_type": "code",
   "execution_count": null,
   "metadata": {},
   "outputs": [],
   "source": []
  },
  {
   "cell_type": "code",
   "execution_count": null,
   "metadata": {},
   "outputs": [],
   "source": []
  },
  {
   "cell_type": "code",
   "execution_count": null,
   "metadata": {},
   "outputs": [],
   "source": []
  }
 ],
 "metadata": {
  "kernelspec": {
   "display_name": "Python 3",
   "language": "python",
   "name": "python3"
  },
  "language_info": {
   "codemirror_mode": {
    "name": "ipython",
    "version": 3
   },
   "file_extension": ".py",
   "mimetype": "text/x-python",
   "name": "python",
   "nbconvert_exporter": "python",
   "pygments_lexer": "ipython3",
   "version": "3.8.3"
  }
 },
 "nbformat": 4,
 "nbformat_minor": 4
}
